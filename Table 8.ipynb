{
 "cells": [
  {
   "cell_type": "markdown",
   "metadata": {},
   "source": [
    "## Table 8 Average Adjustment in Actual and Preferred Hours When Developing and Resolving Working Hour Mismatches\n"
   ]
  },
  {
   "cell_type": "markdown",
   "metadata": {},
   "source": [
    "i) When people go from wanting to work more/less at t-1 to being content with their hours at time t. \n",
    "First two rows. \n",
    "\n",
    "ii) Those who report a satisfaction at time t-1 and then report dissatisaction of either type (more/less hours) at time t. \n",
    "Rows 3 and 4.\n",
    "\n",
    "- Is it working hours that change or is it preferred hours?"
   ]
  },
  {
   "cell_type": "code",
   "execution_count": 1,
   "metadata": {},
   "outputs": [],
   "source": [
    "import pandas as pd\n",
    "import numpy as np\n",
    "from glob import glob\n",
    "import numbers"
   ]
  },
  {
   "cell_type": "code",
   "execution_count": 185,
   "metadata": {},
   "outputs": [],
   "source": [
    "from IPython.core.interactiveshell import InteractiveShell\n",
    "InteractiveShell.ast_node_interactivity = \"all\""
   ]
  },
  {
   "cell_type": "code",
   "execution_count": 2,
   "metadata": {},
   "outputs": [],
   "source": [
    "filenames = glob('Combined_*[a,b,c,d,e,f,g,h,i,j,k]*160c.dta')\n",
    "list_dfs  = [pd.read_stata(f) for f in filenames]"
   ]
  },
  {
   "cell_type": "code",
   "execution_count": 226,
   "metadata": {},
   "outputs": [],
   "source": [
    "male, female = '[1] Male', '[2] Female'\n",
    "less, more, same = '[1] Fewer hours', '[3] More hours', '[2] About the same'"
   ]
  },
  {
   "cell_type": "code",
   "execution_count": 315,
   "metadata": {},
   "outputs": [],
   "source": [
    "def table_8(sex, pref_before, pref_now):\n",
    "    \n",
    "    list_males = [list_dfs[i][list_dfs[i].filter(regex='hgsex$').columns]for i in range(11)]\n",
    "    list_males = [list_dfs[i][list_males[i].iloc[:,0] == sex] for i in range(11)]\n",
    "            \n",
    "    pref1 = [list_males[i].filter(regex='jbhrcpr$') for i in range(11)]\n",
    "    pref2 = [list_males[i].filter(regex='jbhrcpr$') for i in range(11)]\n",
    "    pref2 = pref2[1:]\n",
    "\n",
    "    diff = [pref1[i].join(pref2[i]) for i in range(10)]\n",
    "    cleaned = [diff[i].dropna(how = 'any') for i in range(10)]\n",
    "\n",
    "    hours_wkedt = [list_dfs[i][list_dfs[i].filter(regex='jbhruc$').columns]for i in range(11)]\n",
    "    hours_wkednew = hours_wkedt[1:]\n",
    "    hours_preferred = [list_dfs[i][list_dfs[i].filter(regex='jbtprhr$').columns]for i in range(11)]\n",
    "    hours_preferred_new = hours_preferred[1:]\n",
    "\n",
    "    new_clean = [cleaned[i].join(hours_wkedt[i]) for i in range(10)]\n",
    "    new_clean = [new_clean[i].join(hours_wkednew[i]) for i in range(10)]\n",
    "    new_clean = [new_clean[i].join(hours_preferred[i]) for i in range(10)]\n",
    "    new_clean = [new_clean[i].join(hours_preferred_new[i]) for i in range(10)]\n",
    "\n",
    "    fewer_at_tminus1 = [new_clean[i][new_clean[i].iloc[:,0] == pref_before] for i in range(10)]\n",
    "    fewer_at_tminus1 = [fewer_at_tminus1[i][fewer_at_tminus1[i].iloc[:,1] == pref_now] for i in range(10)]\n",
    "    fewer_at_tminus_pref = [pd.to_numeric(fewer_at_tminus1[i].iloc[:,-2], errors='coerce') for i in range(10)]\n",
    "    fewer_at_tminus_actual = [pd.to_numeric(fewer_at_tminus1[i].iloc[:,2], errors='coerce') for i in range(10)]\n",
    "\n",
    "    fewer_at_t_pref = [pd.to_numeric(fewer_at_tminus1[i].iloc[:,-1], errors='coerce') for i in range(10)]\n",
    "    fewer_at_t_actual = [pd.to_numeric(fewer_at_tminus1[i].iloc[:,3], errors='coerce') for i in range(10)]\n",
    "\n",
    "    hours_diff_pref = [fewer_at_t_pref[i] - fewer_at_tminus_pref[i] for i in range(10)]\n",
    "    hours_diff_actual = [fewer_at_t_actual[i] - fewer_at_tminus_actual[i] for i in range(10)]\n",
    "\n",
    "    hours_diff_pref = [pd.DataFrame(hours_diff_pref[i]) for i in range(10)]\n",
    "    hours_diff_pref = [hours_diff_pref[i].fillna(0) for i in range(10)]\n",
    "    hours_diff_actual = [pd.DataFrame(hours_diff_actual[i]) for i in range(10)]\n",
    "    hours_diff_actual = [hours_diff_actual[i].fillna(0) for i in range(10)]\n",
    "\n",
    "    for i in range(10):\n",
    "        hours_diff_actual[i].columns = {'Actual hours'}\n",
    "\n",
    "    final = [fewer_at_tminus1[i].join(hours_diff_pref[i]) for i in range(10)]\n",
    "    final = [final[i].join(hours_diff_actual[i]) for i in range(10)]\n",
    "    actual_diff = [final[i].iloc[:,-1] for i in range(10)]\n",
    "    actual_diff_mean = [actual_diff[i].mean() for i in range(10)]\n",
    "    actual_diff_mean = np.array(actual_diff_mean).mean()\n",
    "    \n",
    "    pref_diff = [final[i].iloc[:,-2] for i in range(10)]\n",
    "    pref_diff_mean = [pref_diff[i].mean() for i in range(10)]\n",
    "    pref_diff_mean = np.array(pref_diff_mean).mean()\n",
    "    \n",
    "    add = [len(final[i]) for i in range(10)]\n",
    "    add = np.array(add).sum()\n",
    "   \n",
    "\n",
    "    return actual_diff_mean, pref_diff_mean, add\n",
    "\n"
   ]
  },
  {
   "cell_type": "code",
   "execution_count": 319,
   "metadata": {},
   "outputs": [],
   "source": [
    "m_l_s = table_8(male,less, same) #Resolved desire for less\n",
    "m_m_s = table_8(male,more, same)\n",
    "f_l_s = table_8(female,less, same)\n",
    "f_m_s = table_8(female, more, same)\n",
    "m_s_l = table_8(male, same, less) \n",
    "m_s_m = table_8(male, same, more)\n",
    "f_s_l = table_8(female, same, less)\n",
    "f_s_m = table_8(female, same, more)"
   ]
  },
  {
   "cell_type": "code",
   "execution_count": 352,
   "metadata": {},
   "outputs": [],
   "source": [
    "actual_male = m_s_l[0], m_s_m[0], m_l_s[0], m_m_s[0]\n",
    "preferred_male = m_s_l[1], m_s_m[1], m_l_s[1], m_m_s[1]\n",
    "total_male = m_s_l[2], m_s_m[2], m_l_s[2], m_m_s[2]\n",
    "\n",
    "actual_female = f_s_l[0], f_s_m[0], f_l_s[0], f_m_s[0]\n",
    "preferred_female = f_s_l[1], f_s_m[1], f_l_s[1], f_m_s[1]\n",
    "total_female = f_s_l[2], f_s_m[2], f_l_s[2], f_m_s[2]"
   ]
  },
  {
   "cell_type": "code",
   "execution_count": 364,
   "metadata": {},
   "outputs": [],
   "source": [
    "males = pd.DataFrame(preferred_male, actual_male)\n",
    "males = males.reset_index()\n",
    "total_male = pd.DataFrame(total_male)\n",
    "total_male.columns = ['Number of Workers (M)']\n",
    "males = males.join(total_male)\n",
    "males.columns = [['Change in Actual hours (M)', 'Change in Preferred hours (M)', 'Number of Workers (M)']]\n",
    "\n",
    "females = pd.DataFrame(preferred_female, actual_female)\n",
    "females = females.reset_index()\n",
    "total_female = pd.DataFrame(total_female)\n",
    "total_female.columns = ['Number of Workers (F)']\n",
    "females = females.join(total_female)\n",
    "females.columns = [['Change in Actual hours (F)', 'Change in Preferred hours (F)', 'Number of Workers (F)']]\n",
    "final = males.join(females)"
   ]
  },
  {
   "cell_type": "code",
   "execution_count": 371,
   "metadata": {},
   "outputs": [],
   "source": [
    "final.index = ('Developed desire for fewer hours',\n",
    "'Developed desire for more hours',\n",
    "'Resolved a desire for fewer hours',\n",
    "'Resolved a desire for more hours')"
   ]
  },
  {
   "cell_type": "code",
   "execution_count": 372,
   "metadata": {},
   "outputs": [
    {
     "data": {
      "text/html": [
       "<div>\n",
       "<style scoped>\n",
       "    .dataframe tbody tr th:only-of-type {\n",
       "        vertical-align: middle;\n",
       "    }\n",
       "\n",
       "    .dataframe tbody tr th {\n",
       "        vertical-align: top;\n",
       "    }\n",
       "\n",
       "    .dataframe thead tr th {\n",
       "        text-align: left;\n",
       "    }\n",
       "</style>\n",
       "<table border=\"1\" class=\"dataframe\">\n",
       "  <thead>\n",
       "    <tr>\n",
       "      <th></th>\n",
       "      <th>Change in Actual hours (M)</th>\n",
       "      <th>Change in Preferred hours (M)</th>\n",
       "      <th>Number of Workers (M)</th>\n",
       "      <th>Change in Actual hours (F)</th>\n",
       "      <th>Change in Preferred hours (F)</th>\n",
       "      <th>Number of Workers (F)</th>\n",
       "    </tr>\n",
       "  </thead>\n",
       "  <tbody>\n",
       "    <tr>\n",
       "      <td>Developed desire for fewer hours</td>\n",
       "      <td>4.030498</td>\n",
       "      <td>-8.843235</td>\n",
       "      <td>3984</td>\n",
       "      <td>4.420654</td>\n",
       "      <td>-7.336424</td>\n",
       "      <td>3388</td>\n",
       "    </tr>\n",
       "    <tr>\n",
       "      <td>Developed desire for more hours</td>\n",
       "      <td>-4.600679</td>\n",
       "      <td>6.377284</td>\n",
       "      <td>1805</td>\n",
       "      <td>-3.866546</td>\n",
       "      <td>6.064928</td>\n",
       "      <td>2018</td>\n",
       "    </tr>\n",
       "    <tr>\n",
       "      <td>Resolved a desire for fewer hours</td>\n",
       "      <td>-4.552529</td>\n",
       "      <td>8.561799</td>\n",
       "      <td>3868</td>\n",
       "      <td>-5.143162</td>\n",
       "      <td>6.592495</td>\n",
       "      <td>3172</td>\n",
       "    </tr>\n",
       "    <tr>\n",
       "      <td>Resolved a desire for more hours</td>\n",
       "      <td>7.746297</td>\n",
       "      <td>-3.211428</td>\n",
       "      <td>2180</td>\n",
       "      <td>7.778065</td>\n",
       "      <td>-2.349243</td>\n",
       "      <td>2316</td>\n",
       "    </tr>\n",
       "  </tbody>\n",
       "</table>\n",
       "</div>"
      ],
      "text/plain": [
       "                                  Change in Actual hours (M)  \\\n",
       "Developed desire for fewer hours                    4.030498   \n",
       "Developed desire for more hours                    -4.600679   \n",
       "Resolved a desire for fewer hours                  -4.552529   \n",
       "Resolved a desire for more hours                    7.746297   \n",
       "\n",
       "                                  Change in Preferred hours (M)  \\\n",
       "Developed desire for fewer hours                      -8.843235   \n",
       "Developed desire for more hours                        6.377284   \n",
       "Resolved a desire for fewer hours                      8.561799   \n",
       "Resolved a desire for more hours                      -3.211428   \n",
       "\n",
       "                                  Number of Workers (M)  \\\n",
       "Developed desire for fewer hours                   3984   \n",
       "Developed desire for more hours                    1805   \n",
       "Resolved a desire for fewer hours                  3868   \n",
       "Resolved a desire for more hours                   2180   \n",
       "\n",
       "                                  Change in Actual hours (F)  \\\n",
       "Developed desire for fewer hours                    4.420654   \n",
       "Developed desire for more hours                    -3.866546   \n",
       "Resolved a desire for fewer hours                  -5.143162   \n",
       "Resolved a desire for more hours                    7.778065   \n",
       "\n",
       "                                  Change in Preferred hours (F)  \\\n",
       "Developed desire for fewer hours                      -7.336424   \n",
       "Developed desire for more hours                        6.064928   \n",
       "Resolved a desire for fewer hours                      6.592495   \n",
       "Resolved a desire for more hours                      -2.349243   \n",
       "\n",
       "                                  Number of Workers (F)  \n",
       "Developed desire for fewer hours                   3388  \n",
       "Developed desire for more hours                    2018  \n",
       "Resolved a desire for fewer hours                  3172  \n",
       "Resolved a desire for more hours                   2316  "
      ]
     },
     "execution_count": 372,
     "metadata": {},
     "output_type": "execute_result"
    }
   ],
   "source": [
    "final"
   ]
  },
  {
   "cell_type": "code",
   "execution_count": null,
   "metadata": {},
   "outputs": [],
   "source": []
  }
 ],
 "metadata": {
  "kernelspec": {
   "display_name": "Python 3",
   "language": "python",
   "name": "python3"
  },
  "language_info": {
   "codemirror_mode": {
    "name": "ipython",
    "version": 3
   },
   "file_extension": ".py",
   "mimetype": "text/x-python",
   "name": "python",
   "nbconvert_exporter": "python",
   "pygments_lexer": "ipython3",
   "version": "3.7.4"
  }
 },
 "nbformat": 4,
 "nbformat_minor": 2
}
