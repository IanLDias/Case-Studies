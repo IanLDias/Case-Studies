{
 "cells": [
  {
   "cell_type": "code",
   "execution_count": 1,
   "metadata": {},
   "outputs": [],
   "source": [
    "import pandas as pd\n",
    "import numpy as np\n",
    "from glob import glob\n",
    "import numbers"
   ]
  },
  {
   "cell_type": "code",
   "execution_count": 2,
   "metadata": {},
   "outputs": [],
   "source": [
    "filenames = glob('Combined_*[a,b,c,d,e,f,g,h,i,j,k]*160c.dta')\n",
    "list_dfs  = [pd.read_stata(f) for f in filenames]"
   ]
  },
  {
   "cell_type": "code",
   "execution_count": 3,
   "metadata": {},
   "outputs": [],
   "source": [
    "list_dfs = [list_dfs[i].set_index('xwaveid') for i in range(11)]"
   ]
  },
  {
   "cell_type": "code",
   "execution_count": 4,
   "metadata": {},
   "outputs": [],
   "source": [
    "list_males = [list_dfs[i][list_dfs[i].filter(regex='hgsex$').columns]for i in range(11)]\n",
    "list_males = [list_dfs[i][list_males[i].iloc[:,0] == '[1] Male'] for i in range(11)]"
   ]
  },
  {
   "cell_type": "code",
   "execution_count": 15,
   "metadata": {},
   "outputs": [],
   "source": [
    "waves_employed_index = [list_dfs[i].filter(regex='esdtl$').columns for i in range(11)] #\n",
    "waves_employed = [list_dfs[i][waves_employed_index[i]] for i in range(11)] #waves_employed[0-10] are now created (waves1-11)"
   ]
  },
  {
   "cell_type": "code",
   "execution_count": 16,
   "metadata": {
    "scrolled": true
   },
   "outputs": [
    {
     "name": "stderr",
     "output_type": "stream",
     "text": [
      "C:\\Users\\idias\\Anaconda3\\lib\\site-packages\\ipykernel_launcher.py:1: UserWarning: Boolean Series key will be reindexed to match DataFrame index.\n",
      "  \"\"\"Entry point for launching an IPython kernel.\n"
     ]
    }
   ],
   "source": [
    "males_employed = [list_males[i][waves_employed[i].iloc[:,0] == '[2] Employed PT'] for i in range(11)]"
   ]
  },
  {
   "cell_type": "code",
   "execution_count": 17,
   "metadata": {},
   "outputs": [],
   "source": [
    "pref1 = [males_employed[i].filter(regex='jbhrcpr$') for i in range(11)]\n",
    "pref2 = [males_employed[i].filter(regex='jbhrcpr$') for i in range(11)]\n",
    "pref2 = pref2[1:]"
   ]
  },
  {
   "cell_type": "code",
   "execution_count": 18,
   "metadata": {},
   "outputs": [
    {
     "data": {
      "text/html": [
       "<div>\n",
       "<style scoped>\n",
       "    .dataframe tbody tr th:only-of-type {\n",
       "        vertical-align: middle;\n",
       "    }\n",
       "\n",
       "    .dataframe tbody tr th {\n",
       "        vertical-align: top;\n",
       "    }\n",
       "\n",
       "    .dataframe thead th {\n",
       "        text-align: right;\n",
       "    }\n",
       "</style>\n",
       "<table border=\"1\" class=\"dataframe\">\n",
       "  <thead>\n",
       "    <tr style=\"text-align: right;\">\n",
       "      <th></th>\n",
       "      <th>ajbhrcpr</th>\n",
       "    </tr>\n",
       "    <tr>\n",
       "      <th>xwaveid</th>\n",
       "      <th></th>\n",
       "    </tr>\n",
       "  </thead>\n",
       "  <tbody>\n",
       "    <tr>\n",
       "      <td>0100003</td>\n",
       "      <td>[2] About the same</td>\n",
       "    </tr>\n",
       "    <tr>\n",
       "      <td>0100016</td>\n",
       "      <td>[2] About the same</td>\n",
       "    </tr>\n",
       "    <tr>\n",
       "      <td>0100040</td>\n",
       "      <td>[3] More hours</td>\n",
       "    </tr>\n",
       "    <tr>\n",
       "      <td>0100059</td>\n",
       "      <td>[3] More hours</td>\n",
       "    </tr>\n",
       "    <tr>\n",
       "      <td>0100060</td>\n",
       "      <td>[2] About the same</td>\n",
       "    </tr>\n",
       "    <tr>\n",
       "      <td>...</td>\n",
       "      <td>...</td>\n",
       "    </tr>\n",
       "    <tr>\n",
       "      <td>0119837</td>\n",
       "      <td>[3] More hours</td>\n",
       "    </tr>\n",
       "    <tr>\n",
       "      <td>0119838</td>\n",
       "      <td>[3] More hours</td>\n",
       "    </tr>\n",
       "    <tr>\n",
       "      <td>0119839</td>\n",
       "      <td>[2] About the same</td>\n",
       "    </tr>\n",
       "    <tr>\n",
       "      <td>0119866</td>\n",
       "      <td>[3] More hours</td>\n",
       "    </tr>\n",
       "    <tr>\n",
       "      <td>0119886</td>\n",
       "      <td>[3] More hours</td>\n",
       "    </tr>\n",
       "  </tbody>\n",
       "</table>\n",
       "<p>752 rows × 1 columns</p>\n",
       "</div>"
      ],
      "text/plain": [
       "                   ajbhrcpr\n",
       "xwaveid                    \n",
       "0100003  [2] About the same\n",
       "0100016  [2] About the same\n",
       "0100040      [3] More hours\n",
       "0100059      [3] More hours\n",
       "0100060  [2] About the same\n",
       "...                     ...\n",
       "0119837      [3] More hours\n",
       "0119838      [3] More hours\n",
       "0119839  [2] About the same\n",
       "0119866      [3] More hours\n",
       "0119886      [3] More hours\n",
       "\n",
       "[752 rows x 1 columns]"
      ]
     },
     "execution_count": 18,
     "metadata": {},
     "output_type": "execute_result"
    }
   ],
   "source": [
    "pref1[0]"
   ]
  },
  {
   "cell_type": "code",
   "execution_count": 19,
   "metadata": {},
   "outputs": [],
   "source": [
    "diff = [pref1[i].join(pref2[i]) for i in range(10)]\n",
    "cleaned = [diff[i].dropna(how = 'any') for i in range(10)]"
   ]
  },
  {
   "cell_type": "code",
   "execution_count": 20,
   "metadata": {},
   "outputs": [],
   "source": [
    "t_minus_1 = [cleaned[i].iloc[:,0].value_counts() for i in range(10)]\n",
    "t = [cleaned[i].iloc[:,1].value_counts() for i in range(10)]"
   ]
  },
  {
   "cell_type": "code",
   "execution_count": 21,
   "metadata": {},
   "outputs": [],
   "source": [
    "clean_fewer = [cleaned[i][cleaned[i].iloc[:,0] == '[1] Fewer hours'] for i in range(10)]\n",
    "clean_fewer = [clean_fewer[i].iloc[:,1].value_counts(normalize=True) for i in range(10)]\n",
    "\n",
    "clean_current = [cleaned[i][cleaned[i].iloc[:,0] == '[2] About the same']for i in range(10)]\n",
    "clean_current = [clean_current[i].iloc[:,1].value_counts(normalize=True) for i in range(10)]\n",
    "\n",
    "clean_more = [cleaned[i][cleaned[i].iloc[:,0] == '[3] More hours'] for i in range(10)]\n",
    "clean_more = [clean_more[i].iloc[:,1].value_counts(normalize=True) for i in range(10)]"
   ]
  },
  {
   "cell_type": "code",
   "execution_count": 22,
   "metadata": {},
   "outputs": [],
   "source": [
    "clean_fewer = pd.DataFrame(clean_fewer)\n",
    "clean_current = pd.DataFrame(clean_current)\n",
    "clean_more  = pd.DataFrame(clean_more)"
   ]
  },
  {
   "cell_type": "code",
   "execution_count": 23,
   "metadata": {},
   "outputs": [],
   "source": [
    "clean_unfin = clean_fewer.merge(clean_current, left_index=True, right_index=True)\n",
    "clean_merged = clean_unfin.merge(clean_more, left_index=True, right_index=True)"
   ]
  },
  {
   "cell_type": "code",
   "execution_count": 24,
   "metadata": {},
   "outputs": [],
   "source": [
    "unclean = clean_merged.mean(axis=0)\n",
    "unclean = unclean*100"
   ]
  },
  {
   "cell_type": "code",
   "execution_count": 25,
   "metadata": {},
   "outputs": [],
   "source": [
    "#_X = prefer to work fewer hours, _Y = current hours are good, _ = Prefer to work more hours"
   ]
  },
  {
   "cell_type": "code",
   "execution_count": 26,
   "metadata": {},
   "outputs": [],
   "source": [
    "unclean = pd.DataFrame(unclean)"
   ]
  },
  {
   "cell_type": "code",
   "execution_count": 27,
   "metadata": {},
   "outputs": [],
   "source": [
    "fewer_hrs = unclean[:7]\n",
    "curr_hrs = unclean[7:14]\n",
    "more_hrs = unclean[14:]"
   ]
  },
  {
   "cell_type": "code",
   "execution_count": 28,
   "metadata": {},
   "outputs": [],
   "source": [
    "fewer_hrs.columns = ['Prefer to work fewer hours (t-1)']\n",
    "curr_hrs.columns = ['Current hours are good (t-1)']\n",
    "more_hrs.columns = ['Prefer to work more hours (t-1)']"
   ]
  },
  {
   "cell_type": "code",
   "execution_count": 29,
   "metadata": {},
   "outputs": [],
   "source": [
    "fewer_hrs.index = more_hrs.index\n",
    "curr_hrs.index = more_hrs.index"
   ]
  },
  {
   "cell_type": "code",
   "execution_count": 30,
   "metadata": {},
   "outputs": [],
   "source": [
    "final_table = fewer_hrs.join(curr_hrs)\n",
    "final_table = final_table.join(more_hrs)"
   ]
  },
  {
   "cell_type": "code",
   "execution_count": 31,
   "metadata": {},
   "outputs": [
    {
     "data": {
      "text/html": [
       "<div>\n",
       "<style scoped>\n",
       "    .dataframe tbody tr th:only-of-type {\n",
       "        vertical-align: middle;\n",
       "    }\n",
       "\n",
       "    .dataframe tbody tr th {\n",
       "        vertical-align: top;\n",
       "    }\n",
       "\n",
       "    .dataframe thead th {\n",
       "        text-align: right;\n",
       "    }\n",
       "</style>\n",
       "<table border=\"1\" class=\"dataframe\">\n",
       "  <thead>\n",
       "    <tr style=\"text-align: right;\">\n",
       "      <th></th>\n",
       "      <th>Prefer to work fewer hours (t-1)</th>\n",
       "      <th>Current hours are good (t-1)</th>\n",
       "      <th>Prefer to work more hours (t-1)</th>\n",
       "    </tr>\n",
       "  </thead>\n",
       "  <tbody>\n",
       "    <tr>\n",
       "      <td>[2] About the same</td>\n",
       "      <td>55.962267</td>\n",
       "      <td>74.396817</td>\n",
       "      <td>35.763182</td>\n",
       "    </tr>\n",
       "    <tr>\n",
       "      <td>[1] Fewer hours</td>\n",
       "      <td>27.647303</td>\n",
       "      <td>5.981077</td>\n",
       "      <td>1.973330</td>\n",
       "    </tr>\n",
       "    <tr>\n",
       "      <td>[3] More hours</td>\n",
       "      <td>15.955647</td>\n",
       "      <td>19.402071</td>\n",
       "      <td>62.190496</td>\n",
       "    </tr>\n",
       "    <tr>\n",
       "      <td>[-3] Dont know</td>\n",
       "      <td>0.434783</td>\n",
       "      <td>0.220036</td>\n",
       "      <td>0.072993</td>\n",
       "    </tr>\n",
       "    <tr>\n",
       "      <td>[-10] Non-responding person</td>\n",
       "      <td>0.000000</td>\n",
       "      <td>0.000000</td>\n",
       "      <td>0.000000</td>\n",
       "    </tr>\n",
       "    <tr>\n",
       "      <td>[-1] Not asked</td>\n",
       "      <td>0.000000</td>\n",
       "      <td>0.000000</td>\n",
       "      <td>0.000000</td>\n",
       "    </tr>\n",
       "    <tr>\n",
       "      <td>[-4] Refused/Not stated</td>\n",
       "      <td>0.000000</td>\n",
       "      <td>0.000000</td>\n",
       "      <td>0.000000</td>\n",
       "    </tr>\n",
       "  </tbody>\n",
       "</table>\n",
       "</div>"
      ],
      "text/plain": [
       "                             Prefer to work fewer hours (t-1)  \\\n",
       "[2] About the same                                  55.962267   \n",
       "[1] Fewer hours                                     27.647303   \n",
       "[3] More hours                                      15.955647   \n",
       "[-3] Dont know                                       0.434783   \n",
       "[-10] Non-responding person                          0.000000   \n",
       "[-1] Not asked                                       0.000000   \n",
       "[-4] Refused/Not stated                              0.000000   \n",
       "\n",
       "                             Current hours are good (t-1)  \\\n",
       "[2] About the same                              74.396817   \n",
       "[1] Fewer hours                                  5.981077   \n",
       "[3] More hours                                  19.402071   \n",
       "[-3] Dont know                                   0.220036   \n",
       "[-10] Non-responding person                      0.000000   \n",
       "[-1] Not asked                                   0.000000   \n",
       "[-4] Refused/Not stated                          0.000000   \n",
       "\n",
       "                             Prefer to work more hours (t-1)  \n",
       "[2] About the same                                 35.763182  \n",
       "[1] Fewer hours                                     1.973330  \n",
       "[3] More hours                                     62.190496  \n",
       "[-3] Dont know                                      0.072993  \n",
       "[-10] Non-responding person                         0.000000  \n",
       "[-1] Not asked                                      0.000000  \n",
       "[-4] Refused/Not stated                             0.000000  "
      ]
     },
     "execution_count": 31,
     "metadata": {},
     "output_type": "execute_result"
    }
   ],
   "source": [
    "final_table.sort_values('Prefer to work fewer hours (t-1)', ascending=False)"
   ]
  },
  {
   "cell_type": "markdown",
   "metadata": {},
   "source": [
    "Small extension: The above table is an average of ALL waves (t-1). "
   ]
  }
 ],
 "metadata": {
  "kernelspec": {
   "display_name": "Python 3",
   "language": "python",
   "name": "python3"
  },
  "language_info": {
   "codemirror_mode": {
    "name": "ipython",
    "version": 3
   },
   "file_extension": ".py",
   "mimetype": "text/x-python",
   "name": "python",
   "nbconvert_exporter": "python",
   "pygments_lexer": "ipython3",
   "version": "3.7.4"
  }
 },
 "nbformat": 4,
 "nbformat_minor": 2
}
