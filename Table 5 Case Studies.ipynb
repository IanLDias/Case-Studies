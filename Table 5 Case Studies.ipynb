{
 "cells": [
  {
   "cell_type": "code",
   "execution_count": 2,
   "metadata": {},
   "outputs": [],
   "source": [
    "import pandas as pd\n",
    "import numpy as np\n",
    "from glob import glob\n",
    "import seaborn as sns\n",
    "from matplotlib import pyplot as plt"
   ]
  },
  {
   "cell_type": "code",
   "execution_count": 2,
   "metadata": {},
   "outputs": [],
   "source": [
    "filenames = glob('Combined_*[a,b,c,d,e,f,g,h,i,j,k]*160c.dta')\n",
    "list_dfs  = [pd.read_stata(f) for f in filenames]"
   ]
  },
  {
   "cell_type": "code",
   "execution_count": 99,
   "metadata": {},
   "outputs": [],
   "source": [
    "list_desired_index = [list_dfs[i].filter(regex='jbtprhr$').columns for i in range(11)]\n",
    "list_desired = [list_dfs[i][list_desired_index[i]] for i in range(11)]\n",
    "\n",
    "list_actual_index = [list_dfs[i].filter(regex='jbhruc$').columns for i in range(11)]\n",
    "list_actual = [list_dfs[i][list_actual_index[i]] for i in range(11)]\n",
    "\n",
    "list_sex_index = [list_dfs[i].filter(regex='hgsex$').columns for i in range(11)] #Finds the index for sex in each dataset\n",
    "list_sex = [list_dfs[i][list_sex_index[i]] for i in range(11)] #waves_sex[0-10] are now created (waves1-11)\n",
    "\n",
    "list_employed_index = [list_dfs[i].filter(regex='esbrd$').columns for i in range(11)]\n",
    "list_employed = [list_dfs[i][list_employed_index[i]] for i in range(11)]\n",
    "\n",
    "list_jbhr_index = [list_dfs[i].filter(regex='jbhrcpr$').columns for i in range(11)] #This finds the index for the string 'jbhrcpr' in all waves\n",
    "list_jbhr = [list_dfs[i][list_jbhr_index[i]] for i in range(11)] #waves_jbhr[0-10] are now created (waves1-11)\n",
    "              \n",
    "lists_join = [list_sex[i].join([list_desired[i],list_actual[i], list_employed[i], list_jbhr[i]]) for i in range(11)]"
   ]
  },
  {
   "cell_type": "code",
   "execution_count": 100,
   "metadata": {},
   "outputs": [],
   "source": [
    "Employed = [lists_join[i].iloc[:,3] == '[1] Employed' for i in range(11)]\n",
    "waves_excluded = [lists_join[i][(Employed[i])] for i in range(11)]\n",
    "waves_excluded = [waves_excluded[i][waves_excluded[i].iloc[:,0] == '[2] Female'] for i in range(11)]\n",
    "\n",
    "male = [waves_excluded[i].iloc[:,0].name for i in range(11)]\n",
    "employed = [waves_excluded[i].iloc[:,3].name for i in range(11)]\n",
    "male_employed = [waves_excluded[i].drop(columns = [male[i], employed[i]]) for i in range(11)]"
   ]
  },
  {
   "cell_type": "code",
   "execution_count": 101,
   "metadata": {},
   "outputs": [],
   "source": [
    "male_employed[0].columns = ['Desired', 'Actual', 'Preference']\n",
    "# male_employed[i] = desired.. for i in range(11)\n",
    "male_employed_pref = [male_employed[i][(male_employed[i].iloc[:,2] == '[3] More hours') | (male_employed[i].iloc[:,2] == '[1] Fewer hours')] for i in range(11)]"
   ]
  },
  {
   "cell_type": "code",
   "execution_count": 102,
   "metadata": {},
   "outputs": [],
   "source": [
    "col1_to_numeric = [pd.to_numeric(male_employed_pref[i].iloc[:,0], errors='coerce') for i in range(11)]\n",
    "col2_to_numeric = [pd.to_numeric(male_employed_pref[i].iloc[:,1], errors='coerce') for i in range(11)]\n",
    "big_table = [pd.concat([male_employed_pref[i], col1_to_numeric[i]], axis=1) for i in range(11)]\n",
    "big_table = [pd.concat([big_table[i], col2_to_numeric[i]], axis=1) for i in range(11)]"
   ]
  },
  {
   "cell_type": "code",
   "execution_count": 103,
   "metadata": {},
   "outputs": [],
   "source": [
    "desired = [big_table[i].iloc[:,-2] for i in range(11)]\n",
    "actual = [big_table[i].iloc[:,-1] for i in range(11)]\n",
    "fewer_hours = [big_table[i][big_table[i].iloc[:,2] == '[1] Fewer hours'] for i in range(11)]\n",
    "more_hours = [big_table[i][big_table[i].iloc[:,2] == '[3] More hours'] for i in range(11)]"
   ]
  },
  {
   "cell_type": "code",
   "execution_count": 104,
   "metadata": {},
   "outputs": [],
   "source": [
    "desired = [fewer_hours[i].iloc[:,-2].sum()/(len(fewer_hours[i])) for i in range(11)]\n",
    "actual = [fewer_hours[i].iloc[:,-1].sum()/(len(fewer_hours[i])) for i in range(11)]\n",
    "wk_less_hrs = [desired[i] - actual[i] for i in range(11)]\n",
    "tot_fewer_hrs = [len(fewer_hours[i]) for i in range(11)]"
   ]
  },
  {
   "cell_type": "code",
   "execution_count": 105,
   "metadata": {},
   "outputs": [],
   "source": [
    "desired = [more_hours[i].iloc[:,-2].sum()/(len(more_hours[i])) for i in range(11)]\n",
    "actual = [more_hours[i].iloc[:,-1].sum()/(len(more_hours[i])) for i in range(11)]\n",
    "wk_more_hrs = [desired[i] - actual[i] for i in range(11)]\n",
    "tot_more_hrs = [len(more_hours[i]) for i in range(11)]"
   ]
  },
  {
   "cell_type": "code",
   "execution_count": 106,
   "metadata": {},
   "outputs": [],
   "source": [
    "desired = [big_table[i].iloc[:,-2].sum()/(len(big_table[i])) for i in range(11)]\n",
    "actual = [big_table[i].iloc[:,-1].sum()/(len(big_table[i])) for i in range(11)]\n",
    "wk_total= [desired[i] - actual[i] for i in range(11)]\n",
    "tot_hrs = [len(big_table[i]) for i in range(11)]"
   ]
  },
  {
   "cell_type": "code",
   "execution_count": 107,
   "metadata": {},
   "outputs": [],
   "source": [
    "work_less = pd.DataFrame(wk_less_hrs, tot_fewer_hrs).reset_index()\n",
    "work_more = pd.DataFrame(wk_more_hrs, tot_more_hrs).reset_index()\n",
    "work_total = pd.DataFrame(wk_total, tot_hrs).reset_index()"
   ]
  },
  {
   "cell_type": "code",
   "execution_count": 159,
   "metadata": {},
   "outputs": [],
   "source": [
    "work_less.columns = (['Num_workers_less', 'Avg_hours_less'] )\n",
    "work_more.columns = (['Num_workers_more', 'Avg_hours_more'] )\n",
    "work_total.columns = (['Num_workers_total', ' Avg_hours_total'] )"
   ]
  },
  {
   "cell_type": "code",
   "execution_count": 160,
   "metadata": {},
   "outputs": [
    {
     "data": {
      "text/html": [
       "<div>\n",
       "<style scoped>\n",
       "    .dataframe tbody tr th:only-of-type {\n",
       "        vertical-align: middle;\n",
       "    }\n",
       "\n",
       "    .dataframe tbody tr th {\n",
       "        vertical-align: top;\n",
       "    }\n",
       "\n",
       "    .dataframe thead th {\n",
       "        text-align: right;\n",
       "    }\n",
       "</style>\n",
       "<table border=\"1\" class=\"dataframe\">\n",
       "  <thead>\n",
       "    <tr style=\"text-align: right;\">\n",
       "      <th></th>\n",
       "      <th>Num_workers_less</th>\n",
       "      <th>Avg_hours_less</th>\n",
       "      <th>Num_workers_more</th>\n",
       "      <th>Avg_hours_more</th>\n",
       "      <th>Num_workers_total</th>\n",
       "      <th>Avg_hours_total</th>\n",
       "    </tr>\n",
       "  </thead>\n",
       "  <tbody>\n",
       "    <tr>\n",
       "      <td>1</td>\n",
       "      <td>1061</td>\n",
       "      <td>-13.290292</td>\n",
       "      <td>685</td>\n",
       "      <td>11.630657</td>\n",
       "      <td>1746</td>\n",
       "      <td>-3.513173</td>\n",
       "    </tr>\n",
       "    <tr>\n",
       "      <td>2</td>\n",
       "      <td>926</td>\n",
       "      <td>-13.208423</td>\n",
       "      <td>664</td>\n",
       "      <td>11.846386</td>\n",
       "      <td>1590</td>\n",
       "      <td>-2.745283</td>\n",
       "    </tr>\n",
       "    <tr>\n",
       "      <td>3</td>\n",
       "      <td>945</td>\n",
       "      <td>-13.304762</td>\n",
       "      <td>650</td>\n",
       "      <td>11.460000</td>\n",
       "      <td>1595</td>\n",
       "      <td>-3.212539</td>\n",
       "    </tr>\n",
       "    <tr>\n",
       "      <td>4</td>\n",
       "      <td>951</td>\n",
       "      <td>-13.054679</td>\n",
       "      <td>598</td>\n",
       "      <td>11.289298</td>\n",
       "      <td>1549</td>\n",
       "      <td>-3.656553</td>\n",
       "    </tr>\n",
       "    <tr>\n",
       "      <td>5</td>\n",
       "      <td>1035</td>\n",
       "      <td>-13.265700</td>\n",
       "      <td>668</td>\n",
       "      <td>10.991018</td>\n",
       "      <td>1703</td>\n",
       "      <td>-3.751028</td>\n",
       "    </tr>\n",
       "    <tr>\n",
       "      <td>6</td>\n",
       "      <td>1046</td>\n",
       "      <td>-12.839388</td>\n",
       "      <td>612</td>\n",
       "      <td>10.668301</td>\n",
       "      <td>1658</td>\n",
       "      <td>-4.162244</td>\n",
       "    </tr>\n",
       "    <tr>\n",
       "      <td>7</td>\n",
       "      <td>1075</td>\n",
       "      <td>-13.302326</td>\n",
       "      <td>619</td>\n",
       "      <td>10.605816</td>\n",
       "      <td>1694</td>\n",
       "      <td>-4.566116</td>\n",
       "    </tr>\n",
       "    <tr>\n",
       "      <td>8</td>\n",
       "      <td>1015</td>\n",
       "      <td>-13.042365</td>\n",
       "      <td>586</td>\n",
       "      <td>11.136519</td>\n",
       "      <td>1601</td>\n",
       "      <td>-4.192380</td>\n",
       "    </tr>\n",
       "    <tr>\n",
       "      <td>9</td>\n",
       "      <td>974</td>\n",
       "      <td>-13.155031</td>\n",
       "      <td>644</td>\n",
       "      <td>10.673913</td>\n",
       "      <td>1618</td>\n",
       "      <td>-3.670581</td>\n",
       "    </tr>\n",
       "    <tr>\n",
       "      <td>10</td>\n",
       "      <td>1018</td>\n",
       "      <td>-13.185658</td>\n",
       "      <td>697</td>\n",
       "      <td>10.784792</td>\n",
       "      <td>1715</td>\n",
       "      <td>-3.443732</td>\n",
       "    </tr>\n",
       "    <tr>\n",
       "      <td>11</td>\n",
       "      <td>1292</td>\n",
       "      <td>-13.071207</td>\n",
       "      <td>928</td>\n",
       "      <td>11.196121</td>\n",
       "      <td>2220</td>\n",
       "      <td>-2.927027</td>\n",
       "    </tr>\n",
       "  </tbody>\n",
       "</table>\n",
       "</div>"
      ],
      "text/plain": [
       "    Num_workers_less  Avg_hours_less  Num_workers_more  Avg_hours_more  \\\n",
       "1               1061      -13.290292               685       11.630657   \n",
       "2                926      -13.208423               664       11.846386   \n",
       "3                945      -13.304762               650       11.460000   \n",
       "4                951      -13.054679               598       11.289298   \n",
       "5               1035      -13.265700               668       10.991018   \n",
       "6               1046      -12.839388               612       10.668301   \n",
       "7               1075      -13.302326               619       10.605816   \n",
       "8               1015      -13.042365               586       11.136519   \n",
       "9                974      -13.155031               644       10.673913   \n",
       "10              1018      -13.185658               697       10.784792   \n",
       "11              1292      -13.071207               928       11.196121   \n",
       "\n",
       "    Num_workers_total   Avg_hours_total  \n",
       "1                1746         -3.513173  \n",
       "2                1590         -2.745283  \n",
       "3                1595         -3.212539  \n",
       "4                1549         -3.656553  \n",
       "5                1703         -3.751028  \n",
       "6                1658         -4.162244  \n",
       "7                1694         -4.566116  \n",
       "8                1601         -4.192380  \n",
       "9                1618         -3.670581  \n",
       "10               1715         -3.443732  \n",
       "11               2220         -2.927027  "
      ]
     },
     "execution_count": 160,
     "metadata": {},
     "output_type": "execute_result"
    }
   ],
   "source": [
    "table_5 = work_less.join(work_more).join(work_total)\n",
    "table_5.index += 1\n",
    "table_5"
   ]
  },
  {
   "cell_type": "code",
   "execution_count": 173,
   "metadata": {},
   "outputs": [
    {
     "data": {
      "text/plain": [
       "<matplotlib.axes._subplots.AxesSubplot at 0x23537e42d88>"
      ]
     },
     "execution_count": 173,
     "metadata": {},
     "output_type": "execute_result"
    },
    {
     "data": {
      "image/png": "[encoded data removed]",
      "text/plain": [
       "<Figure size 576x432 with 1 Axes>"
      ]
     },
     "metadata": {},
     "output_type": "display_data"
    }
   ],
   "source": [
    "sns.set_style(\"whitegrid\")\n",
    "plt.figure(figsize=(8,6))\n",
    "sns.boxplot(data=(table_5.iloc[:,::2]))\n"
   ]
  },
  {
   "cell_type": "code",
   "execution_count": null,
   "metadata": {},
   "outputs": [],
   "source": []
  },
  {
   "cell_type": "code",
   "execution_count": null,
   "metadata": {},
   "outputs": [],
   "source": []
  },
  {
   "cell_type": "code",
   "execution_count": null,
   "metadata": {},
   "outputs": [],
   "source": []
  },
  {
   "cell_type": "code",
   "execution_count": null,
   "metadata": {},
   "outputs": [],
   "source": []
  },
  {
   "cell_type": "code",
   "execution_count": null,
   "metadata": {},
   "outputs": [],
   "source": []
  },
  {
   "cell_type": "code",
   "execution_count": null,
   "metadata": {},
   "outputs": [],
   "source": []
  },
  {
   "cell_type": "code",
   "execution_count": null,
   "metadata": {},
   "outputs": [],
   "source": []
  },
  {
   "cell_type": "code",
   "execution_count": null,
   "metadata": {},
   "outputs": [],
   "source": []
  },
  {
   "cell_type": "code",
   "execution_count": null,
   "metadata": {},
   "outputs": [],
   "source": []
  },
  {
   "cell_type": "code",
   "execution_count": null,
   "metadata": {},
   "outputs": [],
   "source": []
  },
  {
   "cell_type": "code",
   "execution_count": null,
   "metadata": {},
   "outputs": [],
   "source": []
  },
  {
   "cell_type": "code",
   "execution_count": null,
   "metadata": {},
   "outputs": [],
   "source": []
  }
 ],
 "metadata": {
  "kernelspec": {
   "display_name": "Python 3",
   "language": "python",
   "name": "python3"
  },
  "language_info": {
   "codemirror_mode": {
    "name": "ipython",
    "version": 3
   },
   "file_extension": ".py",
   "mimetype": "text/x-python",
   "name": "python",
   "nbconvert_exporter": "python",
   "pygments_lexer": "ipython3",
   "version": "3.7.4"
  }
 },
 "nbformat": 4,
 "nbformat_minor": 2
}
