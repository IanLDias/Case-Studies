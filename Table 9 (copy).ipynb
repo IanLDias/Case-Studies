{
 "cells": [
  {
   "cell_type": "markdown",
   "metadata": {},
   "source": [
    "## Table 8 Average Adjustment in Actual and Preferred Hours When Developing and Resolving Working Hour Mismatches\n"
   ]
  },
  {
   "cell_type": "markdown",
   "metadata": {},
   "source": [
    "i) When people go from wanting to work more/less at t-1 to being content with their hours at time t. \n",
    "First two rows. \n",
    "\n",
    "ii) Those who report a satisfaction at time t-1 and then report dissatisaction of either type (more/less hours) at time t. \n",
    "Rows 3 and 4.\n",
    "\n",
    "- Is it working hours that change or is it preferred hours?"
   ]
  },
  {
   "cell_type": "code",
   "execution_count": 1,
   "metadata": {},
   "outputs": [],
   "source": [
    "import pandas as pd\n",
    "import numpy as np\n",
    "from glob import glob\n",
    "import numbers"
   ]
  },
  {
   "cell_type": "code",
   "execution_count": 2,
   "metadata": {},
   "outputs": [],
   "source": [
    "from IPython.core.interactiveshell import InteractiveShell\n",
    "InteractiveShell.ast_node_interactivity = \"all\""
   ]
  },
  {
   "cell_type": "code",
   "execution_count": 3,
   "metadata": {},
   "outputs": [],
   "source": [
    "filenames = glob('Combined_*[a,b,c,d,e,f,g,h,i,j,k]*160c.dta')\n",
    "list_dfs  = [pd.read_stata(f) for f in filenames]"
   ]
  },
  {
   "cell_type": "code",
   "execution_count": 15,
   "metadata": {},
   "outputs": [],
   "source": [
    "male, female = '[1] Male', '[2] Female'\n",
    "less, more, same = '[1] Fewer hours', '[3] More hours', '[2] About the same'\n",
    "sex, pref_before, pref_now = '[1] Male', '[2] About the same', '[1] Fewer hours'"
   ]
  },
  {
   "cell_type": "code",
   "execution_count": 178,
   "metadata": {},
   "outputs": [],
   "source": [
    "\n",
    "list_males = [list_dfs[i][list_dfs[i].filter(regex='hgsex$').columns]for i in range(11)]\n",
    "list_males = [list_dfs[i][list_males[i].iloc[:,0] == sex] for i in range(11)]\n",
    "\n",
    "pref1 = [list_males[i].filter(regex='jbhrcpr$') for i in range(11)]\n",
    "pref2 = [list_males[i].filter(regex='jbhrcpr$') for i in range(11)]\n",
    "pref2 = pref2[1:]\n",
    "\n",
    "diff = [pref1[i].join(pref2[i]) for i in range(10)]\n",
    "cleaned = [diff[i].dropna(how = 'any') for i in range(10)]\n",
    "\n",
    "hours_wkedt = [list_dfs[i][list_dfs[i].filter(regex='jbhruc$').columns]for i in range(11)]\n",
    "hours_wkednew = hours_wkedt[1:]\n",
    "hours_preferred = [list_dfs[i][list_dfs[i].filter(regex='jbtprhr$').columns]for i in range(11)]\n",
    "hours_preferred_new = hours_preferred[1:]\n",
    "\n",
    "new_clean = [cleaned[i].join(hours_wkedt[i]) for i in range(10)]\n",
    "new_clean = [new_clean[i].join(hours_wkednew[i]) for i in range(10)]\n",
    "new_clean = [new_clean[i].join(hours_preferred[i]) for i in range(10)]\n",
    "new_clean = [new_clean[i].join(hours_preferred_new[i]) for i in range(10)]\n",
    "\n",
    "fewer_at_tminus1 = [new_clean[i][new_clean[i].iloc[:,0] == pref_before] for i in range(10)]\n",
    "fewer_at_tminus1 = [fewer_at_tminus1[i][fewer_at_tminus1[i].iloc[:,1] == pref_now] for i in range(10)]\n",
    "fewer_at_tminus_pref = [pd.to_numeric(fewer_at_tminus1[i].iloc[:,-2], errors='coerce') for i in range(10)]\n",
    "fewer_at_tminus_actual = [pd.to_numeric(fewer_at_tminus1[i].iloc[:,2], errors='coerce') for i in range(10)]\n",
    "\n",
    "fewer_at_t_pref = [pd.to_numeric(fewer_at_tminus1[i].iloc[:,-1], errors='coerce') for i in range(10)]\n",
    "fewer_at_t_actual = [pd.to_numeric(fewer_at_tminus1[i].iloc[:,3], errors='coerce') for i in range(10)]\n",
    "\n",
    "hours_diff_pref = [fewer_at_t_pref[i] - fewer_at_tminus_pref[i] for i in range(10)]\n",
    "hours_diff_actual = [fewer_at_t_actual[i] - fewer_at_tminus_actual[i] for i in range(10)]\n",
    "\n",
    "hours_diff_pref = [pd.DataFrame(hours_diff_pref[i]) for i in range(10)]\n",
    "hours_diff_pref = [hours_diff_pref[i].fillna(0) for i in range(10)]\n",
    "hours_diff_actual = [pd.DataFrame(hours_diff_actual[i]) for i in range(10)]\n",
    "hours_diff_actual = [hours_diff_actual[i].fillna(0) for i in range(10)]\n",
    "\n",
    "for i in range(10):\n",
    "    hours_diff_actual[i].columns = {'Actual hours'}\n",
    "\n",
    "final = [fewer_at_tminus1[i].join(hours_diff_pref[i]) for i in range(10)]\n",
    "final = [final[i].join(hours_diff_actual[i]) for i in range(10)]\n",
    "actual_diff = [final[i].iloc[:,-1] for i in range(10)]\n",
    "actual_diff_mean = [actual_diff[i].mean() for i in range(10)]\n",
    "actual_diff_mean = np.array(actual_diff_mean).mean()\n",
    "\n",
    "pref_diff = [final[i].iloc[:,-2] for i in range(10)]\n",
    "pref_diff_mean = [pref_diff[i].mean() for i in range(10)]\n",
    "pref_diff_mean = np.array(pref_diff_mean).mean()\n",
    "\n",
    "add = [len(final[i]) for i in range(10)]\n",
    "add = np.array(add).sum()\n"
   ]
  },
  {
   "cell_type": "code",
   "execution_count": null,
   "metadata": {},
   "outputs": [],
   "source": []
  },
  {
   "cell_type": "code",
   "execution_count": 153,
   "metadata": {},
   "outputs": [],
   "source": [
    "pref = final[0].iloc[:,-2]\n",
    "act = final[0].iloc[:,-1]\n",
    "\n",
    "pref = pd.DataFrame(pref)\n",
    "pref.columns = ['Preferred hours']\n",
    "act = pd.DataFrame(act)"
   ]
  },
  {
   "cell_type": "code",
   "execution_count": 120,
   "metadata": {},
   "outputs": [],
   "source": [
    "phah_tot = pref.join(act)\n",
    "phah1 = phah[(phah.iloc[:,0] > 0) & (phah.iloc[:,1] > 0)]\n",
    "phah2 = phah[(phah.iloc[:,0] > 0) & (phah.iloc[:,1] == 0)]\n",
    "phah3 = phah[(phah.iloc[:,0] > 0) & (phah.iloc[:,1] < 0)]\n",
    "phah4 = phah[(phah.iloc[:,0] == 0) & (phah.iloc[:,1] > 0)]\n",
    "phah5 = phah[(phah.iloc[:,0] == 0) & (phah.iloc[:,1] == 0)]\n",
    "phah6 = phah[(phah.iloc[:,0] == 0) & (phah.iloc[:,1] < 0)]\n",
    "phah7 = phah[(phah.iloc[:,0] < 0) & (phah.iloc[:,1] > 0)]\n",
    "phah8 = phah[(phah.iloc[:,0] < 0) & (phah.iloc[:,1] == 0)]\n",
    "phah9 = phah[(phah.iloc[:,0] < 0) & (phah.iloc[:,1] < 0)]\n",
    "phah = phah1, phah2, phah3, phah4, phah5, phah6, phah7, phah8, phah9"
   ]
  },
  {
   "cell_type": "code",
   "execution_count": 128,
   "metadata": {},
   "outputs": [],
   "source": [
    "first_col = [(len(phah[i])/len(phah_tot)) * 100 for i in range(9)]"
   ]
  },
  {
   "cell_type": "code",
   "execution_count": 129,
   "metadata": {
    "scrolled": true
   },
   "outputs": [
    {
     "data": {
      "text/plain": [
       "[25.555555555555554,\n",
       " 0.0,\n",
       " 0.0,\n",
       " 8.88888888888889,\n",
       " 0.0,\n",
       " 0.0,\n",
       " 31.666666666666664,\n",
       " 7.777777777777778,\n",
       " 26.111111111111114]"
      ]
     },
     "execution_count": 129,
     "metadata": {},
     "output_type": "execute_result"
    }
   ],
   "source": [
    "first_col"
   ]
  },
  {
   "cell_type": "code",
   "execution_count": null,
   "metadata": {},
   "outputs": [],
   "source": []
  },
  {
   "cell_type": "code",
   "execution_count": 182,
   "metadata": {},
   "outputs": [],
   "source": [
    "pref = [final[i].iloc[:,-2] for i in range(10)]\n",
    "act = [final[i].iloc[:,-1] for i in range(10)]\n",
    "\n",
    "for i in range(10):\n",
    "    pref[i].name = 'Preferred hours' \n",
    "\n"
   ]
  },
  {
   "cell_type": "code",
   "execution_count": 190,
   "metadata": {},
   "outputs": [],
   "source": [
    "act = [pd.DataFrame(act[i]) for i in range(10)]\n",
    "pref = [pd.DataFrame(pref[i]) for i in range(10)]"
   ]
  },
  {
   "cell_type": "code",
   "execution_count": 260,
   "metadata": {},
   "outputs": [],
   "source": [
    "phah = [pref[i].join(act[i]) for i in range(10)]\n",
    "phah1 = [phah[i][(phah[i].iloc[:,0] > 0) & (phah[i].iloc[:,1] > 0)] for i in range(10)]\n",
    "phah2 = [phah[i][(phah[i].iloc[:,0] > 0) & (phah[i].iloc[:,1] == 0)] for i in range(10)]\n",
    "phah3 = [phah[i][(phah[i].iloc[:,0] > 0) & (phah[i].iloc[:,1] < 0)] for i in range(10)]\n",
    "phah4 = [phah[i][(phah[i].iloc[:,0] == 0) & (phah[i].iloc[:,1] > 0)] for i in range(10)]\n",
    "phah5 = [phah[i][(phah[i].iloc[:,0] == 0) & (phah[i].iloc[:,1] == 0)] for i in range(10)]\n",
    "phah6 = [phah[i][(phah[i].iloc[:,0] == 0) & (phah[i].iloc[:,1] < 0)] for i in range(10)]\n",
    "phah7 = [phah[i][(phah[i].iloc[:,0] < 0) & (phah[i].iloc[:,1] > 0)] for i in range(10)]\n",
    "phah8 = [phah[i][(phah[i].iloc[:,0] < 0) & (phah[i].iloc[:,1] == 0)] for i in range(10)]\n",
    "phah9 = [phah[i][(phah[i].iloc[:,0] < 0) & (phah[i].iloc[:,1] < 0)] for i in range(10)]\n",
    "\n",
    "phah_tot = phah1, phah2, phah3, phah4, phah5, phah6, phah7, phah8, phah9"
   ]
  },
  {
   "cell_type": "code",
   "execution_count": null,
   "metadata": {},
   "outputs": [],
   "source": []
  },
  {
   "cell_type": "code",
   "execution_count": null,
   "metadata": {},
   "outputs": [],
   "source": []
  },
  {
   "cell_type": "code",
   "execution_count": null,
   "metadata": {},
   "outputs": [],
   "source": []
  },
  {
   "cell_type": "code",
   "execution_count": null,
   "metadata": {},
   "outputs": [],
   "source": []
  },
  {
   "cell_type": "code",
   "execution_count": 262,
   "metadata": {},
   "outputs": [
    {
     "data": {
      "text/plain": [
       "50.8"
      ]
     },
     "execution_count": 262,
     "metadata": {},
     "output_type": "execute_result"
    }
   ],
   "source": [
    "np.array([len(phah_tot[0][i]) for i in range(10)]).mean()"
   ]
  },
  {
   "cell_type": "code",
   "execution_count": 276,
   "metadata": {},
   "outputs": [
    {
     "data": {
      "text/plain": [
       "9.05511811023622"
      ]
     },
     "execution_count": 276,
     "metadata": {},
     "output_type": "execute_result"
    },
    {
     "data": {
      "text/plain": [
       "8.661417322834646"
      ]
     },
     "execution_count": 276,
     "metadata": {},
     "output_type": "execute_result"
    },
    {
     "data": {
      "text/plain": [
       "7.283464566929133"
      ]
     },
     "execution_count": 276,
     "metadata": {},
     "output_type": "execute_result"
    },
    {
     "data": {
      "text/plain": [
       "12.204724409448819"
      ]
     },
     "execution_count": 276,
     "metadata": {},
     "output_type": "execute_result"
    },
    {
     "data": {
      "text/plain": [
       "11.614173228346457"
      ]
     },
     "execution_count": 276,
     "metadata": {},
     "output_type": "execute_result"
    },
    {
     "data": {
      "text/plain": [
       "8.661417322834646"
      ]
     },
     "execution_count": 276,
     "metadata": {},
     "output_type": "execute_result"
    },
    {
     "data": {
      "text/plain": [
       "10.039370078740157"
      ]
     },
     "execution_count": 276,
     "metadata": {},
     "output_type": "execute_result"
    },
    {
     "data": {
      "text/plain": [
       "10.236220472440944"
      ]
     },
     "execution_count": 276,
     "metadata": {},
     "output_type": "execute_result"
    },
    {
     "data": {
      "text/plain": [
       "10.433070866141732"
      ]
     },
     "execution_count": 276,
     "metadata": {},
     "output_type": "execute_result"
    },
    {
     "data": {
      "text/plain": [
       "11.811023622047244"
      ]
     },
     "execution_count": 276,
     "metadata": {},
     "output_type": "execute_result"
    }
   ],
   "source": [
    "len_phah1 = [len(phah1[i]) for i in range(10)]#This is the average length of PH^AH^ for all waves\n",
    "len_phah1 = np.array(len_phah1)\n",
    "for i in range(10):\n",
    "    len_phah1[i]/len_phah1.sum() * 100"
   ]
  },
  {
   "cell_type": "code",
   "execution_count": null,
   "metadata": {},
   "outputs": [],
   "source": []
  },
  {
   "cell_type": "code",
   "execution_count": null,
   "metadata": {},
   "outputs": [],
   "source": []
  },
  {
   "cell_type": "code",
   "execution_count": null,
   "metadata": {},
   "outputs": [],
   "source": []
  },
  {
   "cell_type": "code",
   "execution_count": null,
   "metadata": {},
   "outputs": [],
   "source": [
    "len_phah2 = np.array[len(phah1[i]) for i in range(10)].mean()\n",
    "len_phah3 = np.array[len(phah1[i]) for i in range(10)].mean()\n",
    "len_phah4 = np.array[len(phah1[i]) for i in range(10)].mean()\n",
    "len_phah5 = np.array[len(phah1[i]) for i in range(10)].mean()\n",
    "len_phah6 = np.array[len(phah1[i]) for i in range(10)].mean()\n",
    "len_phah7 = np.array[len(phah1[i]) for i in range(10)].mean()\n",
    "len_phah8 = np.array[len(phah1[i]) for i in range(10)].mean()\n",
    "len_phah9 = np.array[len(phah1[i]) for i in range(10)].mean()\n",
    "len_phah10 = np.array[len(phah1[i]) for i in range(10)].mean()"
   ]
  },
  {
   "cell_type": "code",
   "execution_count": null,
   "metadata": {},
   "outputs": [],
   "source": []
  },
  {
   "cell_type": "code",
   "execution_count": null,
   "metadata": {},
   "outputs": [],
   "source": []
  },
  {
   "cell_type": "code",
   "execution_count": null,
   "metadata": {},
   "outputs": [],
   "source": []
  },
  {
   "cell_type": "code",
   "execution_count": 209,
   "metadata": {},
   "outputs": [
    {
     "data": {
      "text/plain": [
       "175      False\n",
       "245      False\n",
       "425      False\n",
       "585      False\n",
       "631      False\n",
       "         ...  \n",
       "16365    False\n",
       "16592    False\n",
       "17184    False\n",
       "17411    False\n",
       "17558    False\n",
       "Length: 157, dtype: bool"
      ]
     },
     "execution_count": 209,
     "metadata": {},
     "output_type": "execute_result"
    }
   ],
   "source": [
    "(phah[1].iloc[:,0] > 0)& (phah[1].iloc[:,1] == 0)"
   ]
  },
  {
   "cell_type": "code",
   "execution_count": 208,
   "metadata": {},
   "outputs": [
    {
     "data": {
      "text/html": [
       "<div>\n",
       "<style scoped>\n",
       "    .dataframe tbody tr th:only-of-type {\n",
       "        vertical-align: middle;\n",
       "    }\n",
       "\n",
       "    .dataframe tbody tr th {\n",
       "        vertical-align: top;\n",
       "    }\n",
       "\n",
       "    .dataframe thead th {\n",
       "        text-align: right;\n",
       "    }\n",
       "</style>\n",
       "<table border=\"1\" class=\"dataframe\">\n",
       "  <thead>\n",
       "    <tr style=\"text-align: right;\">\n",
       "      <th></th>\n",
       "      <th>Preferred hours</th>\n",
       "      <th>Actual hours</th>\n",
       "    </tr>\n",
       "  </thead>\n",
       "  <tbody>\n",
       "    <tr>\n",
       "      <td>127</td>\n",
       "      <td>-20</td>\n",
       "      <td>0</td>\n",
       "    </tr>\n",
       "    <tr>\n",
       "      <td>231</td>\n",
       "      <td>7</td>\n",
       "      <td>32</td>\n",
       "    </tr>\n",
       "    <tr>\n",
       "      <td>278</td>\n",
       "      <td>-30</td>\n",
       "      <td>6</td>\n",
       "    </tr>\n",
       "    <tr>\n",
       "      <td>462</td>\n",
       "      <td>-30</td>\n",
       "      <td>-22</td>\n",
       "    </tr>\n",
       "    <tr>\n",
       "      <td>677</td>\n",
       "      <td>-13</td>\n",
       "      <td>0</td>\n",
       "    </tr>\n",
       "    <tr>\n",
       "      <td>...</td>\n",
       "      <td>...</td>\n",
       "      <td>...</td>\n",
       "    </tr>\n",
       "    <tr>\n",
       "      <td>17675</td>\n",
       "      <td>-10</td>\n",
       "      <td>10</td>\n",
       "    </tr>\n",
       "    <tr>\n",
       "      <td>17800</td>\n",
       "      <td>0</td>\n",
       "      <td>20</td>\n",
       "    </tr>\n",
       "    <tr>\n",
       "      <td>18036</td>\n",
       "      <td>-15</td>\n",
       "      <td>-3</td>\n",
       "    </tr>\n",
       "    <tr>\n",
       "      <td>18141</td>\n",
       "      <td>19</td>\n",
       "      <td>29</td>\n",
       "    </tr>\n",
       "    <tr>\n",
       "      <td>18231</td>\n",
       "      <td>-5</td>\n",
       "      <td>25</td>\n",
       "    </tr>\n",
       "  </tbody>\n",
       "</table>\n",
       "<p>180 rows × 2 columns</p>\n",
       "</div>"
      ],
      "text/plain": [
       "       Preferred hours  Actual hours\n",
       "127                -20             0\n",
       "231                  7            32\n",
       "278                -30             6\n",
       "462                -30           -22\n",
       "677                -13             0\n",
       "...                ...           ...\n",
       "17675              -10            10\n",
       "17800                0            20\n",
       "18036              -15            -3\n",
       "18141               19            29\n",
       "18231               -5            25\n",
       "\n",
       "[180 rows x 2 columns]"
      ]
     },
     "execution_count": 208,
     "metadata": {},
     "output_type": "execute_result"
    }
   ],
   "source": [
    "phah[0]"
   ]
  },
  {
   "cell_type": "code",
   "execution_count": null,
   "metadata": {},
   "outputs": [],
   "source": []
  },
  {
   "cell_type": "code",
   "execution_count": null,
   "metadata": {},
   "outputs": [],
   "source": []
  },
  {
   "cell_type": "code",
   "execution_count": 6,
   "metadata": {},
   "outputs": [],
   "source": [
    "m_l_s = table_8(male,less, same) #Resolved desire for less\n",
    "m_m_s = table_8(male,more, same)\n",
    "f_l_s = table_8(female,less, same)\n",
    "f_m_s = table_8(female, more, same)\n",
    "m_s_l = table_8(male, same, less) \n",
    "m_s_m = table_8(male, same, more)\n",
    "f_s_l = table_8(female, same, less)\n",
    "f_s_m = table_8(female, same, more)"
   ]
  },
  {
   "cell_type": "code",
   "execution_count": 7,
   "metadata": {},
   "outputs": [],
   "source": [
    "actual_male = m_s_l[0], m_s_m[0], m_l_s[0], m_m_s[0]\n",
    "preferred_male = m_s_l[1], m_s_m[1], m_l_s[1], m_m_s[1]\n",
    "total_male = m_s_l[2], m_s_m[2], m_l_s[2], m_m_s[2]\n",
    "\n",
    "actual_female = f_s_l[0], f_s_m[0], f_l_s[0], f_m_s[0]\n",
    "preferred_female = f_s_l[1], f_s_m[1], f_l_s[1], f_m_s[1]\n",
    "total_female = f_s_l[2], f_s_m[2], f_l_s[2], f_m_s[2]"
   ]
  },
  {
   "cell_type": "code",
   "execution_count": 8,
   "metadata": {},
   "outputs": [],
   "source": [
    "males = pd.DataFrame(preferred_male, actual_male)\n",
    "males = males.reset_index()\n",
    "total_male = pd.DataFrame(total_male)\n",
    "total_male.columns = ['Number of Workers (M)']\n",
    "males = males.join(total_male)\n",
    "males.columns = [['Change in Actual hours (M)', 'Change in Preferred hours (M)', 'Number of Workers (M)']]\n",
    "\n",
    "females = pd.DataFrame(preferred_female, actual_female)\n",
    "females = females.reset_index()\n",
    "total_female = pd.DataFrame(total_female)\n",
    "total_female.columns = ['Number of Workers (F)']\n",
    "females = females.join(total_female)\n",
    "females.columns = [['Change in Actual hours (F)', 'Change in Preferred hours (F)', 'Number of Workers (F)']]\n",
    "final = males.join(females)"
   ]
  },
  {
   "cell_type": "code",
   "execution_count": 12,
   "metadata": {},
   "outputs": [
    {
     "data": {
      "text/html": [
       "<div>\n",
       "<style scoped>\n",
       "    .dataframe tbody tr th:only-of-type {\n",
       "        vertical-align: middle;\n",
       "    }\n",
       "\n",
       "    .dataframe tbody tr th {\n",
       "        vertical-align: top;\n",
       "    }\n",
       "\n",
       "    .dataframe thead tr th {\n",
       "        text-align: left;\n",
       "    }\n",
       "</style>\n",
       "<table border=\"1\" class=\"dataframe\">\n",
       "  <thead>\n",
       "    <tr>\n",
       "      <th></th>\n",
       "      <th>Change in Actual hours (M)</th>\n",
       "      <th>Change in Preferred hours (M)</th>\n",
       "      <th>Number of Workers (M)</th>\n",
       "      <th>Change in Actual hours (F)</th>\n",
       "      <th>Change in Preferred hours (F)</th>\n",
       "      <th>Number of Workers (F)</th>\n",
       "    </tr>\n",
       "  </thead>\n",
       "  <tbody>\n",
       "    <tr>\n",
       "      <td>Developed desire for fewer hours</td>\n",
       "      <td>9.437720</td>\n",
       "      <td>-4.928024</td>\n",
       "      <td>1754</td>\n",
       "      <td>11.749134</td>\n",
       "      <td>-1.368290</td>\n",
       "      <td>1297</td>\n",
       "    </tr>\n",
       "    <tr>\n",
       "      <td>Developed desire for more hours</td>\n",
       "      <td>-10.756262</td>\n",
       "      <td>1.459071</td>\n",
       "      <td>843</td>\n",
       "      <td>-10.228006</td>\n",
       "      <td>0.658505</td>\n",
       "      <td>848</td>\n",
       "    </tr>\n",
       "    <tr>\n",
       "      <td>Resolved a desire for fewer hours</td>\n",
       "      <td>-10.506870</td>\n",
       "      <td>3.681173</td>\n",
       "      <td>1818</td>\n",
       "      <td>-12.873103</td>\n",
       "      <td>0.692198</td>\n",
       "      <td>1311</td>\n",
       "    </tr>\n",
       "    <tr>\n",
       "      <td>Resolved a desire for more hours</td>\n",
       "      <td>11.554480</td>\n",
       "      <td>-0.802429</td>\n",
       "      <td>838</td>\n",
       "      <td>9.709236</td>\n",
       "      <td>-1.752196</td>\n",
       "      <td>842</td>\n",
       "    </tr>\n",
       "  </tbody>\n",
       "</table>\n",
       "</div>"
      ],
      "text/plain": [
       "                                  Change in Actual hours (M)  \\\n",
       "Developed desire for fewer hours                    9.437720   \n",
       "Developed desire for more hours                   -10.756262   \n",
       "Resolved a desire for fewer hours                 -10.506870   \n",
       "Resolved a desire for more hours                   11.554480   \n",
       "\n",
       "                                  Change in Preferred hours (M)  \\\n",
       "Developed desire for fewer hours                      -4.928024   \n",
       "Developed desire for more hours                        1.459071   \n",
       "Resolved a desire for fewer hours                      3.681173   \n",
       "Resolved a desire for more hours                      -0.802429   \n",
       "\n",
       "                                  Number of Workers (M)  \\\n",
       "Developed desire for fewer hours                   1754   \n",
       "Developed desire for more hours                     843   \n",
       "Resolved a desire for fewer hours                  1818   \n",
       "Resolved a desire for more hours                    838   \n",
       "\n",
       "                                  Change in Actual hours (F)  \\\n",
       "Developed desire for fewer hours                   11.749134   \n",
       "Developed desire for more hours                   -10.228006   \n",
       "Resolved a desire for fewer hours                 -12.873103   \n",
       "Resolved a desire for more hours                    9.709236   \n",
       "\n",
       "                                  Change in Preferred hours (F)  \\\n",
       "Developed desire for fewer hours                      -1.368290   \n",
       "Developed desire for more hours                        0.658505   \n",
       "Resolved a desire for fewer hours                      0.692198   \n",
       "Resolved a desire for more hours                      -1.752196   \n",
       "\n",
       "                                  Number of Workers (F)  \n",
       "Developed desire for fewer hours                   1297  \n",
       "Developed desire for more hours                     848  \n",
       "Resolved a desire for fewer hours                  1311  \n",
       "Resolved a desire for more hours                    842  "
      ]
     },
     "execution_count": 12,
     "metadata": {},
     "output_type": "execute_result"
    }
   ],
   "source": [
    "final"
   ]
  },
  {
   "cell_type": "code",
   "execution_count": 9,
   "metadata": {},
   "outputs": [],
   "source": [
    "final.index = ('Developed desire for fewer hours',\n",
    "'Developed desire for more hours',\n",
    "'Resolved a desire for fewer hours',\n",
    "'Resolved a desire for more hours')"
   ]
  },
  {
   "cell_type": "code",
   "execution_count": 10,
   "metadata": {},
   "outputs": [
    {
     "data": {
      "text/html": [
       "<div>\n",
       "<style scoped>\n",
       "    .dataframe tbody tr th:only-of-type {\n",
       "        vertical-align: middle;\n",
       "    }\n",
       "\n",
       "    .dataframe tbody tr th {\n",
       "        vertical-align: top;\n",
       "    }\n",
       "\n",
       "    .dataframe thead tr th {\n",
       "        text-align: left;\n",
       "    }\n",
       "</style>\n",
       "<table border=\"1\" class=\"dataframe\">\n",
       "  <thead>\n",
       "    <tr>\n",
       "      <th></th>\n",
       "      <th>Change in Actual hours (M)</th>\n",
       "      <th>Change in Preferred hours (M)</th>\n",
       "      <th>Number of Workers (M)</th>\n",
       "      <th>Change in Actual hours (F)</th>\n",
       "      <th>Change in Preferred hours (F)</th>\n",
       "      <th>Number of Workers (F)</th>\n",
       "    </tr>\n",
       "  </thead>\n",
       "  <tbody>\n",
       "    <tr>\n",
       "      <td>Developed desire for fewer hours</td>\n",
       "      <td>9.437720</td>\n",
       "      <td>-4.928024</td>\n",
       "      <td>1754</td>\n",
       "      <td>11.749134</td>\n",
       "      <td>-1.368290</td>\n",
       "      <td>1297</td>\n",
       "    </tr>\n",
       "    <tr>\n",
       "      <td>Developed desire for more hours</td>\n",
       "      <td>-10.756262</td>\n",
       "      <td>1.459071</td>\n",
       "      <td>843</td>\n",
       "      <td>-10.228006</td>\n",
       "      <td>0.658505</td>\n",
       "      <td>848</td>\n",
       "    </tr>\n",
       "    <tr>\n",
       "      <td>Resolved a desire for fewer hours</td>\n",
       "      <td>-10.506870</td>\n",
       "      <td>3.681173</td>\n",
       "      <td>1818</td>\n",
       "      <td>-12.873103</td>\n",
       "      <td>0.692198</td>\n",
       "      <td>1311</td>\n",
       "    </tr>\n",
       "    <tr>\n",
       "      <td>Resolved a desire for more hours</td>\n",
       "      <td>11.554480</td>\n",
       "      <td>-0.802429</td>\n",
       "      <td>838</td>\n",
       "      <td>9.709236</td>\n",
       "      <td>-1.752196</td>\n",
       "      <td>842</td>\n",
       "    </tr>\n",
       "  </tbody>\n",
       "</table>\n",
       "</div>"
      ],
      "text/plain": [
       "                                  Change in Actual hours (M)  \\\n",
       "Developed desire for fewer hours                    9.437720   \n",
       "Developed desire for more hours                   -10.756262   \n",
       "Resolved a desire for fewer hours                 -10.506870   \n",
       "Resolved a desire for more hours                   11.554480   \n",
       "\n",
       "                                  Change in Preferred hours (M)  \\\n",
       "Developed desire for fewer hours                      -4.928024   \n",
       "Developed desire for more hours                        1.459071   \n",
       "Resolved a desire for fewer hours                      3.681173   \n",
       "Resolved a desire for more hours                      -0.802429   \n",
       "\n",
       "                                  Number of Workers (M)  \\\n",
       "Developed desire for fewer hours                   1754   \n",
       "Developed desire for more hours                     843   \n",
       "Resolved a desire for fewer hours                  1818   \n",
       "Resolved a desire for more hours                    838   \n",
       "\n",
       "                                  Change in Actual hours (F)  \\\n",
       "Developed desire for fewer hours                   11.749134   \n",
       "Developed desire for more hours                   -10.228006   \n",
       "Resolved a desire for fewer hours                 -12.873103   \n",
       "Resolved a desire for more hours                    9.709236   \n",
       "\n",
       "                                  Change in Preferred hours (F)  \\\n",
       "Developed desire for fewer hours                      -1.368290   \n",
       "Developed desire for more hours                        0.658505   \n",
       "Resolved a desire for fewer hours                      0.692198   \n",
       "Resolved a desire for more hours                      -1.752196   \n",
       "\n",
       "                                  Number of Workers (F)  \n",
       "Developed desire for fewer hours                   1297  \n",
       "Developed desire for more hours                     848  \n",
       "Resolved a desire for fewer hours                  1311  \n",
       "Resolved a desire for more hours                    842  "
      ]
     },
     "execution_count": 10,
     "metadata": {},
     "output_type": "execute_result"
    }
   ],
   "source": [
    "final"
   ]
  },
  {
   "cell_type": "code",
   "execution_count": null,
   "metadata": {},
   "outputs": [],
   "source": []
  },
  {
   "cell_type": "code",
   "execution_count": null,
   "metadata": {},
   "outputs": [],
   "source": []
  },
  {
   "cell_type": "code",
   "execution_count": null,
   "metadata": {},
   "outputs": [],
   "source": []
  },
  {
   "cell_type": "code",
   "execution_count": null,
   "metadata": {},
   "outputs": [],
   "source": []
  },
  {
   "cell_type": "code",
   "execution_count": null,
   "metadata": {},
   "outputs": [],
   "source": []
  },
  {
   "cell_type": "code",
   "execution_count": null,
   "metadata": {},
   "outputs": [],
   "source": []
  },
  {
   "cell_type": "code",
   "execution_count": null,
   "metadata": {},
   "outputs": [],
   "source": []
  },
  {
   "cell_type": "code",
   "execution_count": null,
   "metadata": {},
   "outputs": [],
   "source": []
  },
  {
   "cell_type": "code",
   "execution_count": null,
   "metadata": {},
   "outputs": [],
   "source": []
  },
  {
   "cell_type": "code",
   "execution_count": null,
   "metadata": {},
   "outputs": [],
   "source": []
  },
  {
   "cell_type": "code",
   "execution_count": null,
   "metadata": {},
   "outputs": [],
   "source": []
  },
  {
   "cell_type": "code",
   "execution_count": null,
   "metadata": {},
   "outputs": [],
   "source": []
  },
  {
   "cell_type": "code",
   "execution_count": null,
   "metadata": {},
   "outputs": [],
   "source": []
  },
  {
   "cell_type": "code",
   "execution_count": null,
   "metadata": {},
   "outputs": [],
   "source": []
  },
  {
   "cell_type": "code",
   "execution_count": null,
   "metadata": {},
   "outputs": [],
   "source": []
  },
  {
   "cell_type": "code",
   "execution_count": null,
   "metadata": {},
   "outputs": [],
   "source": []
  },
  {
   "cell_type": "code",
   "execution_count": null,
   "metadata": {},
   "outputs": [],
   "source": []
  },
  {
   "cell_type": "code",
   "execution_count": null,
   "metadata": {},
   "outputs": [],
   "source": []
  },
  {
   "cell_type": "code",
   "execution_count": null,
   "metadata": {},
   "outputs": [],
   "source": []
  }
 ],
 "metadata": {
  "kernelspec": {
   "display_name": "Python 3",
   "language": "python",
   "name": "python3"
  },
  "language_info": {
   "codemirror_mode": {
    "name": "ipython",
    "version": 3
   },
   "file_extension": ".py",
   "mimetype": "text/x-python",
   "name": "python",
   "nbconvert_exporter": "python",
   "pygments_lexer": "ipython3",
   "version": "3.7.4"
  }
 },
 "nbformat": 4,
 "nbformat_minor": 2
}
